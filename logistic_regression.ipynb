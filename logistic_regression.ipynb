{
 "cells": [
  {
   "cell_type": "markdown",
   "id": "b91ca6c7",
   "metadata": {},
   "source": [
    "# Logistic Regression (Binary Classification)"
   ]
  },
  {
   "cell_type": "markdown",
   "id": "c33a44c1-f7c4-44f5-9228-479bfe3cc1d5",
   "metadata": {},
   "source": [
    "I started by importing the necessary libraries like pandas, numpy, and os, which helped me handle CSV files, work with numerical data, and manage file operations. Then, I set the folder path where all the CSV files were stored. To keep things organized, I created an empty list to store DataFrames for each file, so I could merge them into one dataset later.\n",
    "\n",
    "Next, I looped through all the files in the folder and grabbed their names, which allowed me to read all the datasets automatically instead of specifying each file manually. I split the data into chunks of 1000 samples and created two lists—one for storing the processed data chunks and another for their labels.  \n",
    "\n",
    "I then processed the data in steps of 1000 samples, reshaping each chunk into a row format that could be used for training. Labels were assigned based on the file names, classifying the data as either \"healthy\" or \"unhealthy,\" along with details about specific faults. Finally, I combined all the chunks into a structured DataFrame and saved it as a CSV file to use for training and testing a logistic regression model."
   ]
  },
  {
   "cell_type": "code",
   "execution_count": null,
   "id": "b219f22d",
   "metadata": {},
   "outputs": [],
   "source": [
    "import pandas as pd\n",
    "import numpy as np\n",
    "import os\n",
    "\n",
    "# Set the folder path containing all CSV files\n",
    "folder_path = 'D:\\\\ML\\\\data'\n",
    "\n",
    "# Create an empty list to store DataFrames for each file\n",
    "output_dfs = []\n",
    "\n",
    "# Loop through all CSV files in the folder\n",
    "for file_name in os.listdir(folder_path):\n",
    "    if file_name.endswith('.csv'):\n",
    "        # Construct the full file path\n",
    "        file_path = os.path.join(folder_path, file_name)\n",
    "        print(file_path)\n",
    "        # Extract the file name without extension\n",
    "        file_name_without_extension = file_name.split(\"-\")[0]\n",
    "\n",
    "        # Initialize labels_list for each file\n",
    "        labels_list = []\n",
    "\n",
    "        # Assign a label based on health condition\n",
    "        label = 'healthy' if 'healthy' in file_name_without_extension.lower() else 'unhealthy'\n",
    "        labels_list.append(label)\n",
    "\n",
    "        # Read the CSV file\n",
    "        df = pd.read_csv(file_path)\n",
    "\n",
    "        # Extract the 'Current-A' column\n",
    "        current_a_data = df[' Current-A']\n",
    "\n",
    "        # Define the chunk size\n",
    "        chunk_size = 1000\n",
    "\n",
    "        # Calculate the number of complete chunks\n",
    "        num_complete_chunks = len(current_a_data) // chunk_size\n",
    "\n",
    "        # Create a list to store transposed chunks\n",
    "        transposed_chunks_list = []\n",
    "\n",
    "        # Process the data in complete chunks\n",
    "        for i in range(0, num_complete_chunks * chunk_size, chunk_size):\n",
    "            # Take a chunk of data\n",
    "            chunk = current_a_data[i:i + chunk_size]\n",
    "\n",
    "            # Transpose the chunk into rows\n",
    "            transposed_chunk = chunk.values.reshape(1, -1)  # 1 row, 143*1000 columns\n",
    "\n",
    "            # Append the transposed chunk to the list\n",
    "            transposed_chunks_list.append(transposed_chunk)\n",
    "\n",
    "        # Concatenate the list of transposed chunks along a new axis (axis=0)\n",
    "        output_array = np.concatenate(transposed_chunks_list, axis=0)\n",
    "\n",
    "        # Create a DataFrame from the concatenated array with a 'Label' column\n",
    "        output_df = pd.DataFrame(data=output_array, columns=[f'Value_{i}' for i in range(output_array.shape[1])])\n",
    "        output_df['Label'] = label\n",
    "\n",
    "        # Append the DataFrame to the list\n",
    "        output_dfs.append(output_df)\n",
    "\n",
    "# Concatenate all DataFrames along a new axis (axis=0)\n",
    "final_output_df = pd.concat(output_dfs, axis=0, ignore_index=True)\n",
    "\n",
    "# Save the final DataFrame to a new CSV file\n",
    "final_output_file_path = 'D:\\\\output\\\\final_output_with_labels.csv'\n",
    "final_output_df.to_csv(final_output_file_path, index=False)\n",
    "\n",
    "# Print a message to indicate that the final file has been saved\n",
    "print(f'Final transposed data with labels saved to {final_output_file_path}')\n"
   ]
  },
  {
   "cell_type": "markdown",
   "id": "f9441b7f-4462-4524-9643-c7b792b97e9f",
   "metadata": {},
   "source": [
    "I checked the data for any missing values and removed the rows that had them. This made sure the dataset was clean and ready to use."
   ]
  },
  {
   "cell_type": "code",
   "execution_count": null,
   "id": "f31baf5d",
   "metadata": {},
   "outputs": [
    {
     "name": "stdout",
     "output_type": "stream",
     "text": [
      "Null Values:\n",
      " Value_0      1\n",
      "Value_1      1\n",
      "Value_2      1\n",
      "Value_3      1\n",
      "Value_4      1\n",
      "            ..\n",
      "Value_996    2\n",
      "Value_997    2\n",
      "Value_998    2\n",
      "Value_999    2\n",
      "Label        0\n",
      "Length: 1001, dtype: int64\n"
     ]
    }
   ],
   "source": [
    "import pandas as pd\n",
    "\n",
    "# Load the CSV file into a DataFrame\n",
    "file_path = r\"D:\\\\ML\\\\output\\\\final_output_with_labels.csv\"\n",
    "df = pd.read_csv(file_path)\n",
    "\n",
    "# Check for null values in the DataFrame\n",
    "null_values =df.isnull().sum()\n",
    "\n",
    "# Display or print the null values\n",
    "print(\"Null Values:\\n\", null_values)\n"
   ]
  },
  {
   "cell_type": "code",
   "execution_count": 3,
   "id": "347798de",
   "metadata": {},
   "outputs": [
    {
     "name": "stdout",
     "output_type": "stream",
     "text": [
      "Value_0      0\n",
      "Value_1      0\n",
      "Value_2      0\n",
      "Value_3      0\n",
      "Value_4      0\n",
      "            ..\n",
      "Value_996    0\n",
      "Value_997    0\n",
      "Value_998    0\n",
      "Value_999    0\n",
      "Label        0\n",
      "Length: 1001, dtype: int64\n"
     ]
    }
   ],
   "source": [
    "df = df.dropna(axis = 0)\n",
    "print(df.isnull().sum(axis = 0))\n"
   ]
  },
  {
   "cell_type": "markdown",
   "id": "1dfd5891-73bd-42f3-a0bc-81da0db6a30f",
   "metadata": {},
   "source": [
    "I wrote a code to build a logistic regression model that classifies the data as either \"healthy\" or \"unhealthy.\" First, I loaded the dataset from a CSV file using pandas and split it into features (X) and labels (y). I converted the labels into binary values, where 1 represented \"healthy\" and 0 represented everything else. After that, I divided the data into an 80% training set and a 20% test set.  \n",
    "\n",
    "The model was trained using gradient descent, and I used the sigmoid function to make predictions. This function is super helpful because logistic regression predicts probabilities, and the sigmoid output represents the probability of the positive class (in this case, \"healthy\"). If the probability was above 0.5, the model classified it as 1 (\"healthy\"), and if it was 0.5 or below, it classified it as 0 (\"unhealthy\").  \n",
    "\n",
    "I started by initializing the weights and bias to zero and updated them over 1000 iterations to minimize the error. Finally, I tested the trained model on the test data and calculated its accuracy by comparing the predicted results with the actual labels."
   ]
  },
  {
   "cell_type": "code",
   "execution_count": null,
   "id": "c1bf9dbf",
   "metadata": {},
   "outputs": [
    {
     "name": "stdout",
     "output_type": "stream",
     "text": [
      "Model Accuracy:  0.8878143133462283\n"
     ]
    }
   ],
   "source": [
    "import pandas as pd\n",
    "import numpy as np\n",
    "\n",
    "file_path = r\"D:\\\\ML\\\\output\\\\final_output_with_labels.csv\"\n",
    "df = pd.read_csv(file_path)\n",
    "\n",
    "# Split the data into features and target\n",
    "X = df.drop('Label', axis=1)\n",
    "y = df['Label'].apply(lambda x: 1 if x == 'healthy' else 0) # Convert 'Label' to binary\n",
    "\n",
    "# Split the data into training and test sets\n",
    "train_idx = int(len(X)*0.8)\n",
    "X_train, X_test = X[:train_idx], X[train_idx:]\n",
    "y_train, y_test = y[:train_idx], y[train_idx:]\n",
    "\n",
    "# Define the sigmoid function\n",
    "def sigmoid(x):\n",
    "    return 1 / (1 + np.exp(-x))\n",
    "\n",
    "# Initialize weights and bias\n",
    "weights = np.zeros(X_train.shape[1])\n",
    "bias = 0\n",
    "\n",
    "# Train the model\n",
    "learning_rate = 0.0001\n",
    "num_iterations = 1000\n",
    "\n",
    "for _ in range(num_iterations):\n",
    "    z = np.dot(X_train, weights) + bias\n",
    "    y_pred = sigmoid(z)\n",
    "    gradient_w = np.dot(X_train.T, (y_pred - y_train)) / y_train.size\n",
    "    gradient_b = np.sum(y_pred - y_train) / y_train.size\n",
    "    weights -= learning_rate * gradient_w\n",
    "    bias -= learning_rate * gradient_b\n",
    "\n",
    "# Make predictions\n",
    "test_predictions = np.where(sigmoid(np.dot(X_test, weights) + bias) > 0.5, 1, 0)\n",
    "\n",
    "# Evaluate the model\n",
    "accuracy = np.mean(test_predictions == y_test)\n",
    "print(\"Model Accuracy: \", accuracy)\n"
   ]
  },
  {
   "cell_type": "markdown",
   "id": "3cf7ccb1-f5f9-4699-b6e8-7b7ea907c8a8",
   "metadata": {},
   "source": [
    "First, I calculated sensitivity (how well the model detects positive cases) and specificity (how well it detects negative cases) for both classes: \"healthy\" and \"unhealthy.\" Sensitivity measures the proportion of actual positives correctly predicted, while specificity measures the proportion of actual negatives correctly predicted.  \n",
    "\n",
    "Then, I used `classification_report` from sklearn to calculate overall metrics like accuracy, precision, recall, and the F1 score. I also averaged the sensitivity and specificity across both classes to get a better understanding of the model’s performance. This gave me a clear idea of how well the model was working and whether it was balanced in identifying both \"healthy\" and \"unhealthy\" cases."
   ]
  },
  {
   "cell_type": "code",
   "execution_count": 5,
   "id": "7ac7d16e",
   "metadata": {},
   "outputs": [
    {
     "name": "stdout",
     "output_type": "stream",
     "text": [
      "Class 1: Sensitivity = 1.0000, Specificity = 0.0000\n",
      "Class 2: Sensitivity = 0.0000, Specificity = 1.0000\n",
      "Accuracy: 0.8878, Recall: 0.5000, Precision: 0.9439, F1 Score: 0.4703\n",
      "Sensitivity: 0.5000, Specificity: 0.5000\n"
     ]
    }
   ],
   "source": [
    "from sklearn.metrics import classification_report\n",
    "\n",
    "\n",
    "# Calculate sensitivity and specificity for each class\n",
    "sensitivity_specificity = []\n",
    "for class_label in np.unique(y_test):\n",
    "    true_positives = np.sum((test_predictions == class_label) & (y_test == class_label))\n",
    "    true_negatives = np.sum((test_predictions != class_label) & (y_test != class_label))\n",
    "    false_positives = np.sum((test_predictions == class_label) & (y_test != class_label))\n",
    "    false_negatives = np.sum((test_predictions != class_label) & (y_test == class_label))\n",
    "\n",
    "    sensitivity = true_positives / (true_positives + false_negatives)\n",
    "    specificity = true_negatives / (true_negatives + false_positives)\n",
    "\n",
    "    sensitivity_specificity.append((sensitivity, specificity))\n",
    "\n",
    "# Print sensitivity and specificity for each class\n",
    "for i, (sensitivity, specificity) in enumerate(sensitivity_specificity, start=1):\n",
    "    print(f\"Class {i}: Sensitivity = {sensitivity:.4f}, Specificity = {specificity:.4f}\")\n",
    "\n",
    "# Compute and print overall classification measures\n",
    "accuracy = np.mean(test_predictions == y_test)\n",
    "precision, recall, f1_score, _ = classification_report(y_test, test_predictions, zero_division=1, output_dict=True)['macro avg'].values()\n",
    "sensitivity = np.mean([s for s, _ in sensitivity_specificity])\n",
    "specificity = np.mean([sp for _, sp in sensitivity_specificity])\n",
    "\n",
    "print(f\"Accuracy: {accuracy:.4f}, Recall: {recall:.4f}, Precision: {precision:.4f}, F1 Score: {f1_score:.4f}\")\n",
    "print(f\"Sensitivity: {sensitivity:.4f}, Specificity: {specificity:.4f}\")\n"
   ]
  },
  {
   "cell_type": "markdown",
   "id": "8c5531af-a2d1-454a-bcea-5f87fe81aca2",
   "metadata": {},
   "source": [
    "I use confusion matrix and ROC curve for Visualization. "
   ]
  },
  {
   "cell_type": "code",
   "execution_count": 6,
   "id": "de25b7b8",
   "metadata": {
    "scrolled": true
   },
   "outputs": [
    {
     "data": {
      "image/png": "[encoded data removed]",
      "text/plain": [
       "<Figure size 800x600 with 2 Axes>"
      ]
     },
     "metadata": {},
     "output_type": "display_data"
    },
    {
     "data": {
      "image/png": "[encoded data removed]",
      "text/plain": [
       "<Figure size 640x480 with 1 Axes>"
      ]
     },
     "metadata": {},
     "output_type": "display_data"
    }
   ],
   "source": [
    "import matplotlib.pyplot as plt\n",
    "from sklearn.metrics import confusion_matrix, roc_curve, roc_auc_score\n",
    "\n",
    "# Compute confusion matrix\n",
    "conf_matrix = confusion_matrix(y_test, test_predictions)\n",
    "\n",
    "# Plot confusion matrix\n",
    "plt.figure(figsize=(8, 6))\n",
    "plt.imshow(conf_matrix, interpolation='nearest', cmap=plt.cm.Blues)\n",
    "plt.title('Confusion Matrix')\n",
    "plt.colorbar()\n",
    "plt.xticks([0, 1], ['Predicted Unhealthy', 'Predicted Healthy'])\n",
    "plt.yticks([0, 1], ['Actual Unhealthy', 'Actual Healthy'])\n",
    "plt.xlabel('Predicted Label')\n",
    "plt.ylabel('True Label')\n",
    "\n",
    "for i in range(2):\n",
    "    for j in range(2):\n",
    "        plt.text(j, i, str(conf_matrix[i, j]), horizontalalignment='center', color='white' if conf_matrix[i, j] > conf_matrix.max() / 2 else 'black')\n",
    "plt.show()\n",
    "\n",
    "# Compute ROC curve and ROC area\n",
    "fpr, tpr, _ = roc_curve(y_test, test_predictions)\n",
    "roc_auc = roc_auc_score(y_test, test_predictions)\n",
    "\n",
    "# Plot ROC curve\n",
    "plt.figure()\n",
    "lw = 2\n",
    "plt.plot(fpr, tpr, color='darkorange', lw=lw, label='ROC curve (area = %0.2f)' % roc_auc)\n",
    "plt.plot([0, 1], [0, 1], color='navy', lw=lw, linestyle='--')\n",
    "plt.xlim([0.0, 1.0])\n",
    "plt.ylim([0.0, 1.05])\n",
    "plt.xlabel('False Positive Rate')\n",
    "plt.ylabel('True Positive Rate')\n",
    "plt.title('Receiver Operating Characteristic (ROC)')\n",
    "plt.legend(loc='lower right')\n",
    "plt.show()\n"
   ]
  },
  {
   "cell_type": "markdown",
   "id": "a5bb4e64",
   "metadata": {},
   "source": [
    "# Logistic Regression (Multiclass Classification)"
   ]
  },
  {
   "cell_type": "markdown",
   "id": "eafd36b1-c2ae-4d31-a789-528645bbb023",
   "metadata": {},
   "source": [
    "This code processes multiple CSV files to create a dataset for multiclass classification. I first check if the folder exists and loop through the files. From each file, I take the 'Current-A' column and split it into 1000-sample chunks, reshaping each chunk into a row. Labels like \"healthy\" or fault types (\"inner_race,\" \"outer_race\") are assigned based on the filenames. After processing all the files, I combine the chunks and labels into one DataFrame and save it as a new CSV file for training a multiclass classification model."
   ]
  },
  {
   "cell_type": "code",
   "execution_count": null,
   "id": "21f304c5",
   "metadata": {},
   "outputs": [],
   "source": [
    "# Multiclass Classification\n",
    "\n",
    "import pandas as pd\n",
    "import numpy as np\n",
    "import os\n",
    "\n",
    "# Set the folder path containing all CSV files\n",
    "folder_path = 'D:\\\\ML\\\\data'\n",
    "\n",
    "# Create an empty list to store DataFrames for each file\n",
    "output_dfs = []\n",
    "\n",
    "# Verify if the folder path exists\n",
    "if os.path.exists(folder_path):\n",
    "    # Loop through all CSV files in the folder\n",
    "    for file_name in os.listdir(folder_path):\n",
    "        if file_name.endswith('.csv'):\n",
    "            # Construct the full file path\n",
    "            file_path = os.path.join(folder_path, file_name)\n",
    "            print(file_path)\n",
    "\n",
    "            # Read the CSV file\n",
    "            df = pd.read_csv(file_path)\n",
    "\n",
    "            # Extract the 'Current-A' column\n",
    "            current_a_data = df[' Current-A']\n",
    "\n",
    "            # Define the chunk size\n",
    "            chunk_size = 1000\n",
    "\n",
    "            # Calculate the number of complete chunks\n",
    "            num_complete_chunks = len(current_a_data) // chunk_size\n",
    "\n",
    "            # Create a list to store transposed chunks and corresponding labels\n",
    "            transposed_chunks_list = []\n",
    "            labels_list = []\n",
    "\n",
    "            # Process the data in complete chunks\n",
    "            for i in range(0, num_complete_chunks * chunk_size, chunk_size):\n",
    "                # Take a chunk of data\n",
    "                chunk = current_a_data[i:i + chunk_size]\n",
    "\n",
    "                # Transpose the chunk into rows\n",
    "                transposed_chunk = chunk.values.reshape(1, -1)  # 1 row, 143*1000 columns\n",
    "\n",
    "                # Append the transposed chunk to the list\n",
    "                transposed_chunks_list.append(transposed_chunk)\n",
    "\n",
    "                # Assign a label with more specific classification\n",
    "                label = file_name.split(\"-\")[0]\n",
    "                if 'healthy' in label.lower():\n",
    "                    label = 'healthy'\n",
    "                elif 'inner' in label.lower():\n",
    "                    label = f'inner_race_{label.split(\"inner\")[-1].strip()}'\n",
    "                elif 'outer' in label.lower():\n",
    "                    label = f'outer_race_{label.split(\"outer\")[-1].strip()}'\n",
    "                elif 'BRB' in label:\n",
    "                    label = f'broken_rotor_bar_{label.split(\"BRB\")[-1].strip()}'\n",
    "                \n",
    "                labels_list.append(label)\n",
    "\n",
    "            # Concatenate the list of transposed chunks along a new axis (axis=0)\n",
    "            output_array = np.concatenate(transposed_chunks_list, axis=0)\n",
    "\n",
    "            # Create a DataFrame from the concatenated array with a 'Label' column\n",
    "            output_df = pd.DataFrame(data=output_array, columns=[f'Value_{i}' for i in range(output_array.shape[1])])\n",
    "            output_df['Label'] = labels_list\n",
    "\n",
    "            # Append the DataFrame to the list\n",
    "            output_dfs.append(output_df)\n",
    "\n",
    "    # Concatenate all DataFrames along a new axis (axis=0)\n",
    "    final_output_df = pd.concat(output_dfs, axis=0, ignore_index=True)\n",
    "\n",
    "    # Set the final output file path\n",
    "    final_output_file_path = r'D:\\\\ML\\\\output2\\\\final_output_with_labels.csv'\n",
    "\n",
    "    # Save the final DataFrame to the specified CSV file path\n",
    "    final_output_df.to_csv(final_output_file_path, index=False)\n",
    "\n",
    "    # Print a message to indicate that the final file has been saved\n",
    "    print(f'Final transposed data with labels saved to {final_output_file_path}')\n",
    "else:\n",
    "    print(f\"The folder path '{folder_path}' does not exist.\")"
   ]
  },
  {
   "cell_type": "markdown",
   "id": "227703ea-cea4-4432-89a3-65e97aaea476",
   "metadata": {},
   "source": [
    "Checking and droping null values."
   ]
  },
  {
   "cell_type": "code",
   "execution_count": null,
   "id": "dc7103bc",
   "metadata": {
    "scrolled": true
   },
   "outputs": [
    {
     "name": "stdout",
     "output_type": "stream",
     "text": [
      "Null Values:\n",
      " Value_0      1\n",
      "Value_1      1\n",
      "Value_2      1\n",
      "Value_3      1\n",
      "Value_4      1\n",
      "            ..\n",
      "Value_996    2\n",
      "Value_997    2\n",
      "Value_998    2\n",
      "Value_999    2\n",
      "Label        0\n",
      "Length: 1001, dtype: int64\n"
     ]
    }
   ],
   "source": [
    "import pandas as pd\n",
    "\n",
    "# Load the CSV file into a DataFrame\n",
    "file_path = r\"D:\\\\ML\\\\output2\\\\final_output_with_labels.csv\"\n",
    "df = pd.read_csv(file_path)\n",
    "\n",
    "# Check for null values in the DataFrame\n",
    "null_values =df.isnull().sum()\n",
    "\n",
    "# Display or print the null values\n",
    "print(\"Null Values:\\n\", null_values)\n"
   ]
  },
  {
   "cell_type": "code",
   "execution_count": 11,
   "id": "6940efad",
   "metadata": {},
   "outputs": [
    {
     "name": "stdout",
     "output_type": "stream",
     "text": [
      "Value_0      0\n",
      "Value_1      0\n",
      "Value_2      0\n",
      "Value_3      0\n",
      "Value_4      0\n",
      "            ..\n",
      "Value_996    0\n",
      "Value_997    0\n",
      "Value_998    0\n",
      "Value_999    0\n",
      "Label        0\n",
      "Length: 1001, dtype: int64\n"
     ]
    }
   ],
   "source": [
    "df = df.dropna(axis = 0)\n",
    "print(df.isnull().sum(axis = 0))\n"
   ]
  },
  {
   "cell_type": "markdown",
   "id": "4e2e1d17-34fc-4e8f-9fc8-8c87ba089bf0",
   "metadata": {},
   "source": [
    "I started by defining the `MySoftmaxRegression` class with methods to fit the model, predict probabilities, and make class predictions. The softmax function is used to turn the raw outputs (logits) into probabilities for each class. During training, the model calculates gradients with L2 regularization to minimize the loss and updates the weights accordingly.  \n",
    "\n",
    "Once the training is complete, I use the model to make predictions on the test set. Before that, I preprocess the dataset by scaling the features with `StandardScaler` and encoding the labels using `LabelEncoder`. Then, I split the dataset into training and test sets using `train_test_split`. Finally, I calculate and print the model's accuracy on the test set. This process helps in building a multiclass classifier with softmax regression."
   ]
  },
  {
   "cell_type": "code",
   "execution_count": 12,
   "id": "72a09775",
   "metadata": {},
   "outputs": [
    {
     "name": "stdout",
     "output_type": "stream",
     "text": [
      "Accuracy: 40.14%\n"
     ]
    }
   ],
   "source": [
    "import numpy as np\n",
    "from sklearn.model_selection import train_test_split\n",
    "from sklearn.metrics import accuracy_score\n",
    "from sklearn.preprocessing import LabelEncoder\n",
    "from sklearn.preprocessing import StandardScaler\n",
    "\n",
    "class MySoftmaxRegression:\n",
    "    def __init__(self, learning_rate=0.01, n_iterations=1000, regularization_strength=0.01):\n",
    "        self.learning_rate = learning_rate\n",
    "        self.n_iterations = n_iterations\n",
    "        self.regularization_strength = regularization_strength\n",
    "        self.weights = None\n",
    "        self.classes = None\n",
    "\n",
    "    def softmax(self, z):\n",
    "        exp_z = np.exp(z - np.max(z, axis=1, keepdims=True))\n",
    "        return exp_z / np.sum(exp_z, axis=1, keepdims=True)\n",
    "\n",
    "    def fit(self, X_train, y_train):\n",
    "        self.classes = np.unique(y_train)\n",
    "        num_classes = len(self.classes)\n",
    "        m, n = X_train.shape\n",
    "        self.weights = np.zeros((n, num_classes))\n",
    "\n",
    "        for iteration in range(self.n_iterations):\n",
    "            logits = X_train.dot(self.weights)\n",
    "            y_proba = self.softmax(logits)\n",
    "            y_one_hot = np.zeros_like(y_proba)\n",
    "            y_one_hot[np.arange(len(y_train)), y_train] = 1\n",
    "\n",
    "            # Add L2 regularization to prevent overfitting\n",
    "            gradient = X_train.T.dot(y_proba - y_one_hot) / m + self.regularization_strength * self.weights\n",
    "            self.weights -= self.learning_rate * gradient\n",
    "\n",
    "    def predict_proba(self, X):\n",
    "        logits = X.dot(self.weights)\n",
    "        probabilities = self.softmax(logits)\n",
    "        return probabilities\n",
    "\n",
    "    def predict(self, X):\n",
    "        probabilities = self.predict_proba(X)\n",
    "        predicted_class = np.argmax(probabilities, axis=1)\n",
    "        return predicted_class\n",
    "\n",
    "# Assuming 'df' is your dataset\n",
    "features = df.iloc[:, :-1].values  # Features\n",
    "labels = df.iloc[:, -1].values  # Multiclass labels\n",
    "\n",
    "# Scale features\n",
    "scaler = StandardScaler()\n",
    "features_scaled = scaler.fit_transform(features)\n",
    "\n",
    "# Encode labels into consecutive integers starting from 0\n",
    "label_encoder = LabelEncoder()\n",
    "labels_encoded = label_encoder.fit_transform(labels)\n",
    "\n",
    "# Split the data into training and testing sets\n",
    "X_train, X_test, y_train, y_test = train_test_split(features_scaled, labels_encoded, test_size=0.2, random_state=42)\n",
    "\n",
    "# Softmax Regression for Multiclass\n",
    "softmax_reg = MySoftmaxRegression(learning_rate=0.01, n_iterations=1000, regularization_strength=0.01)\n",
    "softmax_reg.fit(X_train, y_train)\n",
    "\n",
    "# Make predictions on the test set\n",
    "y_pred = softmax_reg.predict(X_test)\n",
    "\n",
    "# Evaluate accuracy and other metrics\n",
    "acc = accuracy_score(y_test, y_pred)\n",
    "\n",
    "print(f\"Accuracy: {acc * 100:.2f}%\")"
   ]
  },
  {
   "cell_type": "markdown",
   "id": "8a7f7028-d06b-4065-98f2-23e6f4006e24",
   "metadata": {},
   "source": [
    "I calculate the accuracy to see how many predictions were correct overall. Then, I calculate recall, which shows how well the model identifies the true positive cases, and precision, which tells me how good the model is at avoiding false positives. I also calculate the F1 score, which provides a balance between recall and precision."
   ]
  },
  {
   "cell_type": "code",
   "execution_count": 13,
   "id": "61a60b29",
   "metadata": {},
   "outputs": [
    {
     "name": "stdout",
     "output_type": "stream",
     "text": [
      "Class 1: Sensitivity = 0.3220, Specificity = 0.8092\n",
      "Class 2: Sensitivity = 0.0000, Specificity = 0.9713\n",
      "Class 3: Sensitivity = 0.4426, Specificity = 0.5910\n",
      "Class 4: Sensitivity = 0.3890, Specificity = 0.6845\n",
      "Accuracy: 0.4014, Recall: 0.4014, Precision: 0.4622, F1 Score: 0.4240\n",
      "Sensitivity: 0.2884, Specificity: 0.7640\n"
     ]
    }
   ],
   "source": [
    "from sklearn.metrics import accuracy_score, recall_score, precision_score, f1_score, confusion_matrix\n",
    "import numpy as np\n",
    "\n",
    "# Assuming 'y_test' contains true labels and 'predictions' contains predicted labels\n",
    "\n",
    "# Calculate accuracy\n",
    "accuracy = accuracy_score(y_test, y_pred)\n",
    "\n",
    "# Calculate recall\n",
    "recall = recall_score(y_test, y_pred, average='weighted')\n",
    "\n",
    "# Calculate precision\n",
    "precision = precision_score(y_test, y_pred, average='weighted', zero_division=0)\n",
    "# Calculate F1 Score\n",
    "f1 = f1_score(y_test, y_pred, average='weighted')\n",
    "\n",
    "# Calculate confusion matrix to derive sensitivity and specificity\n",
    "conf_matrix = confusion_matrix(y_test, y_pred)\n",
    "num_classes = conf_matrix.shape[0]\n",
    "\n",
    "total_sensitivity = 0\n",
    "total_specificity = 0\n",
    "\n",
    "for i in range(num_classes):\n",
    "    tp = conf_matrix[i, i]\n",
    "    fn = np.sum(conf_matrix[i, :]) - tp\n",
    "    fp = np.sum(conf_matrix[:, i]) - tp\n",
    "    tn = np.sum(conf_matrix) - tp - fn - fp\n",
    "\n",
    "    sensitivity = tp / (tp + fn) if (tp + fn) != 0 else 0\n",
    "    specificity = tn / (tn + fp) if (tn + fp) != 0 else 0\n",
    "\n",
    "    total_sensitivity += sensitivity\n",
    "    total_specificity += specificity\n",
    "\n",
    "    print(f\"Class {i + 1}: Sensitivity = {sensitivity:.4f}, Specificity = {specificity:.4f}\")\n",
    "\n",
    "sensitivity = total_sensitivity / num_classes\n",
    "specificity = total_specificity / num_classes\n",
    "\n",
    "# Print or store the metrics for each fold\n",
    "print(f\"Accuracy: {accuracy:.4f}, Recall: {recall:.4f}, Precision: {precision:.4f}, F1 Score: {f1:.4f}\")\n",
    "print(f\"Sensitivity: {sensitivity:.4f}, Specificity: {specificity:.4f}\")\n"
   ]
  },
  {
   "cell_type": "markdown",
   "id": "c748fa08-e77c-41e5-b725-fbe45a1ca33e",
   "metadata": {},
   "source": [
    "I calculate the confusion matrix for the predictions and true labels, then visualizes it as a heatmap using Seaborn."
   ]
  },
  {
   "cell_type": "code",
   "execution_count": 14,
   "id": "84fef9b1",
   "metadata": {},
   "outputs": [
    {
     "data": {
      "image/png": "[encoded data removed]",
      "text/plain": [
       "<Figure size 1000x800 with 1 Axes>"
      ]
     },
     "metadata": {},
     "output_type": "display_data"
    }
   ],
   "source": [
    "import seaborn as sns\n",
    "import matplotlib.pyplot as plt\n",
    "from sklearn.metrics import confusion_matrix\n",
    "cm = confusion_matrix(y_test, y_pred)\n",
    "\n",
    "# Create a heatmap using Seaborn\n",
    "plt.figure(figsize=(10, 8))\n",
    "sns.heatmap(cm, annot=True, fmt=\"d\", cmap=\"Blues\", xticklabels=label_encoder.classes_, yticklabels=label_encoder.classes_, cbar=False)\n",
    "\n",
    "# Add labels and title\n",
    "plt.title('Confusion Matrix')\n",
    "plt.xlabel('Predicted Labels')\n",
    "plt.ylabel('True Labels')\n",
    "\n",
    "# Display the plot\n",
    "plt.show()"
   ]
  },
  {
   "cell_type": "code",
   "execution_count": null,
   "id": "5158a6bb",
   "metadata": {},
   "outputs": [],
   "source": []
  }
 ],
 "metadata": {
  "kernelspec": {
   "display_name": "Python 3 (ipykernel)",
   "language": "python",
   "name": "python3"
  },
  "language_info": {
   "codemirror_mode": {
    "name": "ipython",
    "version": 3
   },
   "file_extension": ".py",
   "mimetype": "text/x-python",
   "name": "python",
   "nbconvert_exporter": "python",
   "pygments_lexer": "ipython3",
   "version": "3.12.7"
  }
 },
 "nbformat": 4,
 "nbformat_minor": 5
}
